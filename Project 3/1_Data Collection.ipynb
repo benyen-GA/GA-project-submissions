{
 "cells": [
  {
   "cell_type": "code",
   "execution_count": 1,
   "id": "c2fd99f3",
   "metadata": {},
   "outputs": [],
   "source": [
    "from bs4 import BeautifulSoup\n",
    "import requests\n",
    "import time\n",
    "import datetime\n",
    "import csv\n",
    "import pandas as pd\n",
    "from selenium import webdriver\n",
    "from webdriver_manager.chrome import ChromeDriverManager\n",
    "import smtplib"
   ]
  },
  {
   "cell_type": "code",
   "execution_count": 2,
   "id": "d9ae5113",
   "metadata": {},
   "outputs": [],
   "source": [
    "# Create function to scrape subreddit\n",
    "\n",
    "def scrape_reddit(subreddit_name, before_utc=None):\n",
    "    headers =  {\"User-Agent\": \"Mozilla/5.0 (Windows NT 10.0; Win64; x64) AppleWebKit/537.36 (KHTML, like Gecko) Chrome/110.0.0.0 Safari/537.36\", \n",
    "    \"X-Amzn-Trace-Id\": \"Root=1-63f21606-4050dfad6e48400f788a3549\"}\n",
    "\n",
    "    url = 'https://api.pushshift.io/reddit/search/submission'\n",
    "    \n",
    "    params = {\n",
    "        'subreddit':subreddit_name,\n",
    "        'size':500,\n",
    "        'before':before_utc\n",
    "    }\n",
    "    \n",
    "    page = requests.get(url, params, headers=headers)\n",
    "\n",
    "    posts = page.json()\n",
    "    \n",
    "    df = pd.DataFrame(posts['data'])\n",
    "    \n",
    "    earliest_created_utc = posts['data'][-1]['created_utc']      #returns the creation date of the very last post\n",
    "    scraped_posts = df[['subreddit', 'selftext', 'title']]\n",
    "    \n",
    "    return scraped_posts, earliest_created_utc"
   ]
  },
  {
   "cell_type": "code",
   "execution_count": null,
   "id": "ab76c3b6",
   "metadata": {},
   "outputs": [],
   "source": [
    "# Scrape the latest 10,000 posts from r\\Singapore\n",
    "\n",
    "df = pd.DataFrame(columns=['subreddit', 'selftext', 'title'])\n",
    "\n",
    "required_count = 0\n",
    "earliest_created_utc = None\n",
    "\n",
    "while required_count < 10000:\n",
    "    \n",
    "    scraped_posts, utc = scrape_reddit('singapore', earliest_created_utc)\n",
    "    earliest_created_utc = utc\n",
    "    df = pd.concat([df, scraped_posts])\n",
    "    required_count +=500\n",
    "    \n",
    "\n",
    "# Save to csv file\n",
    "# df.to_csv('./datasets/singapore.csv', index=False)"
   ]
  },
  {
   "cell_type": "code",
   "execution_count": null,
   "id": "49b5a088",
   "metadata": {},
   "outputs": [],
   "source": [
    "# Scrape the latest 10,000 posts from r\\askSingapore\n",
    "\n",
    "df = pd.DataFrame(columns=['subreddit', 'selftext', 'title'])\n",
    "\n",
    "required_count = 0\n",
    "earliest_created_utc = None\n",
    "\n",
    "while required_count < 10000:\n",
    "    \n",
    "    scraped_posts, utc = scrape_reddit('asksingapore', earliest_created_utc)\n",
    "    earliest_created_utc = utc\n",
    "    df = pd.concat([df, scraped_posts])\n",
    "    required_count +=500\n",
    "    \n",
    "\n",
    "# Save to csv file\n",
    "# df.to_csv('./datasets/asksingapore.csv', index=False)"
   ]
  }
 ],
 "metadata": {
  "kernelspec": {
   "display_name": "Python 3 (ipykernel)",
   "language": "python",
   "name": "python3"
  },
  "language_info": {
   "codemirror_mode": {
    "name": "ipython",
    "version": 3
   },
   "file_extension": ".py",
   "mimetype": "text/x-python",
   "name": "python",
   "nbconvert_exporter": "python",
   "pygments_lexer": "ipython3",
   "version": "3.7.16"
  }
 },
 "nbformat": 4,
 "nbformat_minor": 5
}
